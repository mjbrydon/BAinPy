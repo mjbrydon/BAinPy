{
 "cells": [
  {
   "cell_type": "markdown",
   "metadata": {},
   "source": [
    "# Correlation and Scatterplots\n",
    "In this tutorial we use the \"concrete strength\" data set to explore relationships between two continuous variables."
   ]
  },
  {
   "cell_type": "markdown",
   "metadata": {},
   "source": [
    "## Preliminaries"
   ]
  },
  {
   "cell_type": "code",
   "execution_count": 1,
   "metadata": {},
   "outputs": [
    {
     "data": {
      "text/html": [
       "<div>\n",
       "<style scoped>\n",
       "    .dataframe tbody tr th:only-of-type {\n",
       "        vertical-align: middle;\n",
       "    }\n",
       "\n",
       "    .dataframe tbody tr th {\n",
       "        vertical-align: top;\n",
       "    }\n",
       "\n",
       "    .dataframe thead th {\n",
       "        text-align: right;\n",
       "    }\n",
       "</style>\n",
       "<table border=\"1\" class=\"dataframe\">\n",
       "  <thead>\n",
       "    <tr style=\"text-align: right;\">\n",
       "      <th></th>\n",
       "      <th>No</th>\n",
       "      <th>Cement</th>\n",
       "      <th>Slag</th>\n",
       "      <th>Fly ash</th>\n",
       "      <th>Water</th>\n",
       "      <th>SP</th>\n",
       "      <th>Coarse Aggr.</th>\n",
       "      <th>Fine Aggr.</th>\n",
       "      <th>Air Entrainment</th>\n",
       "      <th>Compressive Strength (28-day)(Mpa)</th>\n",
       "    </tr>\n",
       "  </thead>\n",
       "  <tbody>\n",
       "    <tr>\n",
       "      <th>0</th>\n",
       "      <td>1</td>\n",
       "      <td>273.0</td>\n",
       "      <td>82.0</td>\n",
       "      <td>105.0</td>\n",
       "      <td>210.0</td>\n",
       "      <td>9.0</td>\n",
       "      <td>904.0</td>\n",
       "      <td>680.0</td>\n",
       "      <td>No</td>\n",
       "      <td>34.990</td>\n",
       "    </tr>\n",
       "    <tr>\n",
       "      <th>1</th>\n",
       "      <td>2</td>\n",
       "      <td>163.0</td>\n",
       "      <td>149.0</td>\n",
       "      <td>191.0</td>\n",
       "      <td>180.0</td>\n",
       "      <td>12.0</td>\n",
       "      <td>843.0</td>\n",
       "      <td>746.0</td>\n",
       "      <td>Yes</td>\n",
       "      <td>32.272</td>\n",
       "    </tr>\n",
       "    <tr>\n",
       "      <th>2</th>\n",
       "      <td>3</td>\n",
       "      <td>162.0</td>\n",
       "      <td>148.0</td>\n",
       "      <td>191.0</td>\n",
       "      <td>179.0</td>\n",
       "      <td>16.0</td>\n",
       "      <td>840.0</td>\n",
       "      <td>743.0</td>\n",
       "      <td>Yes</td>\n",
       "      <td>35.450</td>\n",
       "    </tr>\n",
       "    <tr>\n",
       "      <th>3</th>\n",
       "      <td>4</td>\n",
       "      <td>162.0</td>\n",
       "      <td>148.0</td>\n",
       "      <td>190.0</td>\n",
       "      <td>179.0</td>\n",
       "      <td>19.0</td>\n",
       "      <td>838.0</td>\n",
       "      <td>741.0</td>\n",
       "      <td>No</td>\n",
       "      <td>42.080</td>\n",
       "    </tr>\n",
       "    <tr>\n",
       "      <th>4</th>\n",
       "      <td>5</td>\n",
       "      <td>154.0</td>\n",
       "      <td>112.0</td>\n",
       "      <td>144.0</td>\n",
       "      <td>220.0</td>\n",
       "      <td>10.0</td>\n",
       "      <td>923.0</td>\n",
       "      <td>658.0</td>\n",
       "      <td>No</td>\n",
       "      <td>26.820</td>\n",
       "    </tr>\n",
       "    <tr>\n",
       "      <th>...</th>\n",
       "      <td>...</td>\n",
       "      <td>...</td>\n",
       "      <td>...</td>\n",
       "      <td>...</td>\n",
       "      <td>...</td>\n",
       "      <td>...</td>\n",
       "      <td>...</td>\n",
       "      <td>...</td>\n",
       "      <td>...</td>\n",
       "      <td>...</td>\n",
       "    </tr>\n",
       "    <tr>\n",
       "      <th>98</th>\n",
       "      <td>99</td>\n",
       "      <td>248.3</td>\n",
       "      <td>101.0</td>\n",
       "      <td>239.1</td>\n",
       "      <td>168.9</td>\n",
       "      <td>7.7</td>\n",
       "      <td>954.2</td>\n",
       "      <td>640.6</td>\n",
       "      <td>No</td>\n",
       "      <td>49.970</td>\n",
       "    </tr>\n",
       "    <tr>\n",
       "      <th>99</th>\n",
       "      <td>100</td>\n",
       "      <td>248.0</td>\n",
       "      <td>101.0</td>\n",
       "      <td>239.9</td>\n",
       "      <td>169.1</td>\n",
       "      <td>7.7</td>\n",
       "      <td>949.9</td>\n",
       "      <td>644.1</td>\n",
       "      <td>No</td>\n",
       "      <td>50.230</td>\n",
       "    </tr>\n",
       "    <tr>\n",
       "      <th>100</th>\n",
       "      <td>101</td>\n",
       "      <td>258.8</td>\n",
       "      <td>88.0</td>\n",
       "      <td>239.6</td>\n",
       "      <td>175.3</td>\n",
       "      <td>7.6</td>\n",
       "      <td>938.9</td>\n",
       "      <td>646.0</td>\n",
       "      <td>Yes</td>\n",
       "      <td>43.461</td>\n",
       "    </tr>\n",
       "    <tr>\n",
       "      <th>101</th>\n",
       "      <td>102</td>\n",
       "      <td>297.1</td>\n",
       "      <td>40.9</td>\n",
       "      <td>239.9</td>\n",
       "      <td>194.0</td>\n",
       "      <td>7.5</td>\n",
       "      <td>908.9</td>\n",
       "      <td>651.8</td>\n",
       "      <td>Yes</td>\n",
       "      <td>44.639</td>\n",
       "    </tr>\n",
       "    <tr>\n",
       "      <th>102</th>\n",
       "      <td>103</td>\n",
       "      <td>348.7</td>\n",
       "      <td>0.1</td>\n",
       "      <td>223.1</td>\n",
       "      <td>208.5</td>\n",
       "      <td>9.6</td>\n",
       "      <td>786.2</td>\n",
       "      <td>758.1</td>\n",
       "      <td>No</td>\n",
       "      <td>48.770</td>\n",
       "    </tr>\n",
       "  </tbody>\n",
       "</table>\n",
       "<p>103 rows × 10 columns</p>\n",
       "</div>"
      ],
      "text/plain": [
       "      No  Cement   Slag  Fly ash  Water    SP  Coarse Aggr.  Fine Aggr.  \\\n",
       "0      1   273.0   82.0    105.0  210.0   9.0         904.0       680.0   \n",
       "1      2   163.0  149.0    191.0  180.0  12.0         843.0       746.0   \n",
       "2      3   162.0  148.0    191.0  179.0  16.0         840.0       743.0   \n",
       "3      4   162.0  148.0    190.0  179.0  19.0         838.0       741.0   \n",
       "4      5   154.0  112.0    144.0  220.0  10.0         923.0       658.0   \n",
       "..   ...     ...    ...      ...    ...   ...           ...         ...   \n",
       "98    99   248.3  101.0    239.1  168.9   7.7         954.2       640.6   \n",
       "99   100   248.0  101.0    239.9  169.1   7.7         949.9       644.1   \n",
       "100  101   258.8   88.0    239.6  175.3   7.6         938.9       646.0   \n",
       "101  102   297.1   40.9    239.9  194.0   7.5         908.9       651.8   \n",
       "102  103   348.7    0.1    223.1  208.5   9.6         786.2       758.1   \n",
       "\n",
       "    Air Entrainment  Compressive Strength (28-day)(Mpa)  \n",
       "0                No                              34.990  \n",
       "1               Yes                              32.272  \n",
       "2               Yes                              35.450  \n",
       "3                No                              42.080  \n",
       "4                No                              26.820  \n",
       "..              ...                                 ...  \n",
       "98               No                              49.970  \n",
       "99               No                              50.230  \n",
       "100             Yes                              43.461  \n",
       "101             Yes                              44.639  \n",
       "102              No                              48.770  \n",
       "\n",
       "[103 rows x 10 columns]"
      ]
     },
     "execution_count": 1,
     "metadata": {},
     "output_type": "execute_result"
    }
   ],
   "source": [
    "import pandas as pd\n",
    "con = pd.read_csv('Data/ConcreteStrength.csv')\n",
    "con"
   ]
  },
  {
   "cell_type": "markdown",
   "metadata": {},
   "source": [
    "## Renaming columns\n",
    "Recall the the column names in the \"ConcreteStrength\" file are problematic: they are too long to type repeatedly, have spaces, and include special characters like \".\".  Although we could change the name of the columns in the underlying spreadsheet before importing, it is generally more practical/less work/less risk to leave the organization's spreadsheets and files as they are and write some code to fix things prior to analysis.  In this way, you do not have to start over when an updated version of the data is handed to you.\n",
    "\n",
    "Let's start by listing the column names.  A Pandas DataFrame object exposes a list of columns through the `columns` property.  Here I use the `list()` type conversion method to convert the results to a simple list (which prints nicer):"
   ]
  },
  {
   "cell_type": "code",
   "execution_count": 2,
   "metadata": {},
   "outputs": [
    {
     "data": {
      "text/plain": [
       "['No',\n",
       " 'Cement',\n",
       " 'Slag',\n",
       " 'Fly ash',\n",
       " 'Water',\n",
       " 'SP',\n",
       " 'Coarse Aggr.',\n",
       " 'Fine Aggr.',\n",
       " 'Air Entrainment',\n",
       " 'Compressive Strength (28-day)(Mpa)']"
      ]
     },
     "execution_count": 2,
     "metadata": {},
     "output_type": "execute_result"
    }
   ],
   "source": [
    "list(con.columns)"
   ]
  },
  {
   "cell_type": "markdown",
   "metadata": {},
   "source": [
    "The `rename()` method for data frames is straightforward.  Here I define a standard Python dictionary (of the form {key1: value1, key2: value2, ... }) and assign it to the \"columns\" axis.  Remember that the `inplace=True` argument is required if we want to make changes to the underlying data frame."
   ]
  },
  {
   "cell_type": "code",
   "execution_count": 3,
   "metadata": {},
   "outputs": [
    {
     "data": {
      "text/html": [
       "<div>\n",
       "<style scoped>\n",
       "    .dataframe tbody tr th:only-of-type {\n",
       "        vertical-align: middle;\n",
       "    }\n",
       "\n",
       "    .dataframe tbody tr th {\n",
       "        vertical-align: top;\n",
       "    }\n",
       "\n",
       "    .dataframe thead th {\n",
       "        text-align: right;\n",
       "    }\n",
       "</style>\n",
       "<table border=\"1\" class=\"dataframe\">\n",
       "  <thead>\n",
       "    <tr style=\"text-align: right;\">\n",
       "      <th></th>\n",
       "      <th>No</th>\n",
       "      <th>Cement</th>\n",
       "      <th>Slag</th>\n",
       "      <th>FlyAsh</th>\n",
       "      <th>Water</th>\n",
       "      <th>SP</th>\n",
       "      <th>CoarseAgg</th>\n",
       "      <th>FineAgg</th>\n",
       "      <th>AirEntrain</th>\n",
       "      <th>Strength</th>\n",
       "    </tr>\n",
       "  </thead>\n",
       "  <tbody>\n",
       "    <tr>\n",
       "      <th>0</th>\n",
       "      <td>1</td>\n",
       "      <td>273.0</td>\n",
       "      <td>82.0</td>\n",
       "      <td>105.0</td>\n",
       "      <td>210.0</td>\n",
       "      <td>9.0</td>\n",
       "      <td>904.0</td>\n",
       "      <td>680.0</td>\n",
       "      <td>No</td>\n",
       "      <td>34.990</td>\n",
       "    </tr>\n",
       "    <tr>\n",
       "      <th>1</th>\n",
       "      <td>2</td>\n",
       "      <td>163.0</td>\n",
       "      <td>149.0</td>\n",
       "      <td>191.0</td>\n",
       "      <td>180.0</td>\n",
       "      <td>12.0</td>\n",
       "      <td>843.0</td>\n",
       "      <td>746.0</td>\n",
       "      <td>Yes</td>\n",
       "      <td>32.272</td>\n",
       "    </tr>\n",
       "    <tr>\n",
       "      <th>2</th>\n",
       "      <td>3</td>\n",
       "      <td>162.0</td>\n",
       "      <td>148.0</td>\n",
       "      <td>191.0</td>\n",
       "      <td>179.0</td>\n",
       "      <td>16.0</td>\n",
       "      <td>840.0</td>\n",
       "      <td>743.0</td>\n",
       "      <td>Yes</td>\n",
       "      <td>35.450</td>\n",
       "    </tr>\n",
       "    <tr>\n",
       "      <th>3</th>\n",
       "      <td>4</td>\n",
       "      <td>162.0</td>\n",
       "      <td>148.0</td>\n",
       "      <td>190.0</td>\n",
       "      <td>179.0</td>\n",
       "      <td>19.0</td>\n",
       "      <td>838.0</td>\n",
       "      <td>741.0</td>\n",
       "      <td>No</td>\n",
       "      <td>42.080</td>\n",
       "    </tr>\n",
       "    <tr>\n",
       "      <th>4</th>\n",
       "      <td>5</td>\n",
       "      <td>154.0</td>\n",
       "      <td>112.0</td>\n",
       "      <td>144.0</td>\n",
       "      <td>220.0</td>\n",
       "      <td>10.0</td>\n",
       "      <td>923.0</td>\n",
       "      <td>658.0</td>\n",
       "      <td>No</td>\n",
       "      <td>26.820</td>\n",
       "    </tr>\n",
       "  </tbody>\n",
       "</table>\n",
       "</div>"
      ],
      "text/plain": [
       "   No  Cement   Slag  FlyAsh  Water    SP  CoarseAgg  FineAgg AirEntrain  \\\n",
       "0   1   273.0   82.0   105.0  210.0   9.0      904.0    680.0         No   \n",
       "1   2   163.0  149.0   191.0  180.0  12.0      843.0    746.0        Yes   \n",
       "2   3   162.0  148.0   191.0  179.0  16.0      840.0    743.0        Yes   \n",
       "3   4   162.0  148.0   190.0  179.0  19.0      838.0    741.0         No   \n",
       "4   5   154.0  112.0   144.0  220.0  10.0      923.0    658.0         No   \n",
       "\n",
       "   Strength  \n",
       "0    34.990  \n",
       "1    32.272  \n",
       "2    35.450  \n",
       "3    42.080  \n",
       "4    26.820  "
      ]
     },
     "execution_count": 3,
     "metadata": {},
     "output_type": "execute_result"
    }
   ],
   "source": [
    "con.rename(columns={'Fly ash': 'FlyAsh', 'Coarse Aggr.': \"CoarseAgg\",\n",
    "                    'Fine Aggr.': 'FineAgg', 'Air Entrainment': 'AirEntrain', \n",
    "                    'Compressive Strength (28-day)(Mpa)': 'Strength'}, inplace=True)\n",
    "con.head()"
   ]
  },
  {
   "cell_type": "markdown",
   "metadata": {},
   "source": [
    "As before, we should convert any obvious categorical variables to categories:"
   ]
  },
  {
   "cell_type": "code",
   "execution_count": 4,
   "metadata": {},
   "outputs": [
    {
     "data": {
      "text/html": [
       "<div>\n",
       "<style scoped>\n",
       "    .dataframe tbody tr th:only-of-type {\n",
       "        vertical-align: middle;\n",
       "    }\n",
       "\n",
       "    .dataframe tbody tr th {\n",
       "        vertical-align: top;\n",
       "    }\n",
       "\n",
       "    .dataframe thead th {\n",
       "        text-align: right;\n",
       "    }\n",
       "</style>\n",
       "<table border=\"1\" class=\"dataframe\">\n",
       "  <thead>\n",
       "    <tr style=\"text-align: right;\">\n",
       "      <th></th>\n",
       "      <th>AirEntrain</th>\n",
       "    </tr>\n",
       "  </thead>\n",
       "  <tbody>\n",
       "    <tr>\n",
       "      <th>count</th>\n",
       "      <td>103</td>\n",
       "    </tr>\n",
       "    <tr>\n",
       "      <th>unique</th>\n",
       "      <td>2</td>\n",
       "    </tr>\n",
       "    <tr>\n",
       "      <th>top</th>\n",
       "      <td>No</td>\n",
       "    </tr>\n",
       "    <tr>\n",
       "      <th>freq</th>\n",
       "      <td>56</td>\n",
       "    </tr>\n",
       "  </tbody>\n",
       "</table>\n",
       "</div>"
      ],
      "text/plain": [
       "       AirEntrain\n",
       "count         103\n",
       "unique          2\n",
       "top            No\n",
       "freq           56"
      ]
     },
     "execution_count": 4,
     "metadata": {},
     "output_type": "execute_result"
    }
   ],
   "source": [
    "con['AirEntrain'] = con['AirEntrain'].astype('category')\n",
    "con.describe(include='category')"
   ]
  },
  {
   "cell_type": "code",
   "execution_count": 5,
   "metadata": {},
   "outputs": [
    {
     "data": {
      "text/plain": [
       "['No',\n",
       " 'Cement',\n",
       " 'Slag',\n",
       " 'FlyAsh',\n",
       " 'Water',\n",
       " 'SP',\n",
       " 'CoarseAgg',\n",
       " 'FineAgg',\n",
       " 'AirEntrain',\n",
       " 'Strength']"
      ]
     },
     "execution_count": 5,
     "metadata": {},
     "output_type": "execute_result"
    }
   ],
   "source": [
    "list(con.columns)"
   ]
  },
  {
   "cell_type": "markdown",
   "metadata": {},
   "source": [
    "## Scatterplots\n",
    "Scatterplots are a fundamental graph type&mdash;much less complicated than histograms and boxplots.  As such, we might use the Mathplotlib library instead of the Seaborn library.  But since we have already used Seaborn, I will stick with it here.  Just know that there are many ways to create scatterplots and other basic graphs in Python.\n",
    "\n",
    "To create a bare-bones scatterplot, we must do four things:\n",
    "1. Load the seaborn library\n",
    "2. Specify the source data frame\n",
    "3. Set the _x_ axis, which is generally the name of a predictor/independent variable\n",
    "4. Set the _y_ axis, which is generally  the name of a response/dependent variable"
   ]
  },
  {
   "cell_type": "code",
   "execution_count": 6,
   "metadata": {},
   "outputs": [
    {
     "data": {
      "image/png": "[encoded data removed]",
      "text/plain": [
       "<Figure size 432x288 with 1 Axes>"
      ]
     },
     "metadata": {
      "needs_background": "light"
     },
     "output_type": "display_data"
    }
   ],
   "source": [
    "import seaborn as sns\n",
    "sns.scatterplot(x=\"FlyAsh\", y=\"Strength\", data=con);"
   ]
  },
  {
   "cell_type": "markdown",
   "metadata": {},
   "source": [
    "## Adding labels\n",
    "To this point, we have not said much about decorating Seaborn charts with labels and other details.  This is because Seaborn does a pretty good job by default.  But if we do need to clean up our charts a bit, here is the thing to know: the Seaborn chart methods return an object (of type AxesSubplot, whatever that is) for which properties can be set.\n",
    "\n",
    "Here I assign the results of the `scatterplot()` call to a variable called `ax` and then set various properties of `ax`.  I end the last line of the code block with a semicolon to suppress return values:"
   ]
  },
  {
   "cell_type": "code",
   "execution_count": 7,
   "metadata": {},
   "outputs": [
    {
     "data": {
      "image/png": "[encoded data removed]",
      "text/plain": [
       "<Figure size 432x288 with 1 Axes>"
      ]
     },
     "metadata": {
      "needs_background": "light"
     },
     "output_type": "display_data"
    }
   ],
   "source": [
    "ax = sns.scatterplot(x=\"FlyAsh\", y=\"Strength\", data=con)\n",
    "ax.set_title(\"Concrete Strength vs. Fly ash\")\n",
    "ax.set_xlabel(\"Fly ash\");"
   ]
  },
  {
   "cell_type": "markdown",
   "metadata": {},
   "source": [
    "## Adding a best fit line\n",
    "As we saw with SAS Enterprise Guide and R, it is sometimes useful to add a best fit line (with confidence intervals around the slope) to a scatterplot.  But let's be clear: this is not one of these situations.  It is obvious from the scatterplot above that the relationship between concrete strength and fly ash is only weakly linear.\n",
    "\n",
    "The easiest way to \"add\" a best-fit line to a scatterplot is to use a different plotting method. Seaborn's `lmplot()` method (where \"lm\" stands for \"linear model\") is one possibility:"
   ]
  },
  {
   "cell_type": "code",
   "execution_count": 8,
   "metadata": {},
   "outputs": [
    {
     "data": {
      "image/png": "[encoded data removed]",
      "text/plain": [
       "<Figure size 360x360 with 1 Axes>"
      ]
     },
     "metadata": {
      "needs_background": "light"
     },
     "output_type": "display_data"
    }
   ],
   "source": [
    "sns.lmplot(x=\"FlyAsh\", y=\"Strength\", data=con);"
   ]
  },
  {
   "cell_type": "markdown",
   "metadata": {},
   "source": [
    "## Adding color as a third dimension\n",
    "A graphics \"party trick\" made fashionable by tools like Tableau is to use color, size, or some other visual cue to add a third dimension to a two-dimensional scatterplot.  In the case of color (or \"hue\" in Seaborn terminology), this third dimension need to be a non-continuous variable.  This is because the palette of colors available has a finite number of options."
   ]
  },
  {
   "cell_type": "code",
   "execution_count": 9,
   "metadata": {},
   "outputs": [
    {
     "data": {
      "image/png": "[encoded data removed]",
      "text/plain": [
       "<Figure size 417.875x360 with 1 Axes>"
      ]
     },
     "metadata": {
      "needs_background": "light"
     },
     "output_type": "display_data"
    }
   ],
   "source": [
    "sns.lmplot(x=\"FlyAsh\", y=\"Strength\", hue=\"AirEntrain\", data=con);"
   ]
  },
  {
   "cell_type": "markdown",
   "metadata": {},
   "source": [
    "## Coefficient of correlation\n",
    "A correlation coefficient (typically denoted _r_) is a single number that describes the extent of the **linear** relationship between two variables. A value of +1 indicates perfect linearity (the two variables move together, like \"height in inches\" and \"height in centimeters\"). A value of _r_ = 0 indicates no correlation (the variables are independent) and _r_ = -1 indicates the variables are inversely correlated (an increase in one variable is associated with a decrease in the other).\n",
    "\n",
    "Like many other statistics (measures derived from raw data), there are slightly different ways to calculate the correlation coefficient that are more or less sensitive to outliers and other characteristics of the data.  The most common measure is the Pearson correlation coefficient.  The Scipy library provides a method called `pearsonr()` (Pearson's _r_)."
   ]
  },
  {
   "cell_type": "code",
   "execution_count": 10,
   "metadata": {},
   "outputs": [
    {
     "data": {
      "text/plain": [
       "(0.4063870105954507, 2.0500713273946373e-05)"
      ]
     },
     "execution_count": 10,
     "metadata": {},
     "output_type": "execute_result"
    }
   ],
   "source": [
    "from scipy import stats\n",
    "stats.pearsonr(con['Strength'], con['FlyAsh'])"
   ]
  },
  {
   "cell_type": "markdown",
   "metadata": {},
   "source": [
    "Again, it is not the prettiest result. But, if we were so inclined, we could write the results to a data frame and apply whatever formatting in Python we wanted to.  In this form, however, we get two numbers:\n",
    "1. Pearson's _r_ (0,4063---same as we got in Excel, R, etc.)\n",
    "2. A _p_-value.  This is the probability that the true value of _r_ is zero (no correlation).\n",
    "\n",
    "We conclude based on this that there is weak linear relationship between concrete strength and fly ash but not so weak that we should conclude the variables are uncorrelated.  In other words, it seems that fly ash does have _some_ influence on concrete strength.\n",
    "\n",
    "Of course, correlation does not imply causality. It is equally correct, based on the value of _r_, to say that concrete strength has some influence on the amount of fly ash in the mix.  But hopefully we are worldly enough to know _something_ about mixing up a batch of concrete and can generally _infer_ causality, or at least directionality. That is, we use our domain knowledge to help interpret statistical results."
   ]
  },
  {
   "cell_type": "markdown",
   "metadata": {},
   "source": [
    "## Corrleation matrix\n",
    "A correlation matrix is a handy way to calculate the pairwise correlation coefficients between two or more (numeric) variables.  The Pandas data frame has this functionality built-in to its `corr()` method, which I have wrapped inside the `round()` method to keep things tidy.  Notice that every correlation matrix is symmetrical: the correlation of \"Cement\" with \"Slag\" is the same as the correlation of \"Slag\" with \"Cement\" (-0.24).  Thus, the top (or bottom, depending on your preferences) of every correlation matrix is redundant.  The correlation between each variable and itself is 1.0, hence the diagonal."
   ]
  },
  {
   "cell_type": "code",
   "execution_count": 17,
   "metadata": {},
   "outputs": [
    {
     "data": {
      "text/html": [
       "<div>\n",
       "<style scoped>\n",
       "    .dataframe tbody tr th:only-of-type {\n",
       "        vertical-align: middle;\n",
       "    }\n",
       "\n",
       "    .dataframe tbody tr th {\n",
       "        vertical-align: top;\n",
       "    }\n",
       "\n",
       "    .dataframe thead th {\n",
       "        text-align: right;\n",
       "    }\n",
       "</style>\n",
       "<table border=\"1\" class=\"dataframe\">\n",
       "  <thead>\n",
       "    <tr style=\"text-align: right;\">\n",
       "      <th></th>\n",
       "      <th>No</th>\n",
       "      <th>Cement</th>\n",
       "      <th>Slag</th>\n",
       "      <th>FlyAsh</th>\n",
       "      <th>Water</th>\n",
       "      <th>SP</th>\n",
       "      <th>CoarseAgg</th>\n",
       "      <th>FineAgg</th>\n",
       "      <th>Strength</th>\n",
       "    </tr>\n",
       "  </thead>\n",
       "  <tbody>\n",
       "    <tr>\n",
       "      <th>No</th>\n",
       "      <td>1.00</td>\n",
       "      <td>-0.03</td>\n",
       "      <td>-0.08</td>\n",
       "      <td>0.34</td>\n",
       "      <td>-0.14</td>\n",
       "      <td>-0.33</td>\n",
       "      <td>0.22</td>\n",
       "      <td>-0.31</td>\n",
       "      <td>0.19</td>\n",
       "    </tr>\n",
       "    <tr>\n",
       "      <th>Cement</th>\n",
       "      <td>-0.03</td>\n",
       "      <td>1.00</td>\n",
       "      <td>-0.24</td>\n",
       "      <td>-0.49</td>\n",
       "      <td>0.22</td>\n",
       "      <td>-0.11</td>\n",
       "      <td>-0.31</td>\n",
       "      <td>0.06</td>\n",
       "      <td>0.46</td>\n",
       "    </tr>\n",
       "    <tr>\n",
       "      <th>Slag</th>\n",
       "      <td>-0.08</td>\n",
       "      <td>-0.24</td>\n",
       "      <td>1.00</td>\n",
       "      <td>-0.32</td>\n",
       "      <td>-0.03</td>\n",
       "      <td>0.31</td>\n",
       "      <td>-0.22</td>\n",
       "      <td>-0.18</td>\n",
       "      <td>-0.33</td>\n",
       "    </tr>\n",
       "    <tr>\n",
       "      <th>FlyAsh</th>\n",
       "      <td>0.34</td>\n",
       "      <td>-0.49</td>\n",
       "      <td>-0.32</td>\n",
       "      <td>1.00</td>\n",
       "      <td>-0.24</td>\n",
       "      <td>-0.14</td>\n",
       "      <td>0.17</td>\n",
       "      <td>-0.28</td>\n",
       "      <td>0.41</td>\n",
       "    </tr>\n",
       "    <tr>\n",
       "      <th>Water</th>\n",
       "      <td>-0.14</td>\n",
       "      <td>0.22</td>\n",
       "      <td>-0.03</td>\n",
       "      <td>-0.24</td>\n",
       "      <td>1.00</td>\n",
       "      <td>-0.16</td>\n",
       "      <td>-0.60</td>\n",
       "      <td>0.11</td>\n",
       "      <td>-0.22</td>\n",
       "    </tr>\n",
       "    <tr>\n",
       "      <th>SP</th>\n",
       "      <td>-0.33</td>\n",
       "      <td>-0.11</td>\n",
       "      <td>0.31</td>\n",
       "      <td>-0.14</td>\n",
       "      <td>-0.16</td>\n",
       "      <td>1.00</td>\n",
       "      <td>-0.10</td>\n",
       "      <td>0.06</td>\n",
       "      <td>-0.02</td>\n",
       "    </tr>\n",
       "    <tr>\n",
       "      <th>CoarseAgg</th>\n",
       "      <td>0.22</td>\n",
       "      <td>-0.31</td>\n",
       "      <td>-0.22</td>\n",
       "      <td>0.17</td>\n",
       "      <td>-0.60</td>\n",
       "      <td>-0.10</td>\n",
       "      <td>1.00</td>\n",
       "      <td>-0.49</td>\n",
       "      <td>-0.15</td>\n",
       "    </tr>\n",
       "    <tr>\n",
       "      <th>FineAgg</th>\n",
       "      <td>-0.31</td>\n",
       "      <td>0.06</td>\n",
       "      <td>-0.18</td>\n",
       "      <td>-0.28</td>\n",
       "      <td>0.11</td>\n",
       "      <td>0.06</td>\n",
       "      <td>-0.49</td>\n",
       "      <td>1.00</td>\n",
       "      <td>-0.17</td>\n",
       "    </tr>\n",
       "    <tr>\n",
       "      <th>Strength</th>\n",
       "      <td>0.19</td>\n",
       "      <td>0.46</td>\n",
       "      <td>-0.33</td>\n",
       "      <td>0.41</td>\n",
       "      <td>-0.22</td>\n",
       "      <td>-0.02</td>\n",
       "      <td>-0.15</td>\n",
       "      <td>-0.17</td>\n",
       "      <td>1.00</td>\n",
       "    </tr>\n",
       "  </tbody>\n",
       "</table>\n",
       "</div>"
      ],
      "text/plain": [
       "             No  Cement  Slag  FlyAsh  Water    SP  CoarseAgg  FineAgg  \\\n",
       "No         1.00   -0.03 -0.08    0.34  -0.14 -0.33       0.22    -0.31   \n",
       "Cement    -0.03    1.00 -0.24   -0.49   0.22 -0.11      -0.31     0.06   \n",
       "Slag      -0.08   -0.24  1.00   -0.32  -0.03  0.31      -0.22    -0.18   \n",
       "FlyAsh     0.34   -0.49 -0.32    1.00  -0.24 -0.14       0.17    -0.28   \n",
       "Water     -0.14    0.22 -0.03   -0.24   1.00 -0.16      -0.60     0.11   \n",
       "SP        -0.33   -0.11  0.31   -0.14  -0.16  1.00      -0.10     0.06   \n",
       "CoarseAgg  0.22   -0.31 -0.22    0.17  -0.60 -0.10       1.00    -0.49   \n",
       "FineAgg   -0.31    0.06 -0.18   -0.28   0.11  0.06      -0.49     1.00   \n",
       "Strength   0.19    0.46 -0.33    0.41  -0.22 -0.02      -0.15    -0.17   \n",
       "\n",
       "           Strength  \n",
       "No             0.19  \n",
       "Cement         0.46  \n",
       "Slag          -0.33  \n",
       "FlyAsh         0.41  \n",
       "Water         -0.22  \n",
       "SP            -0.02  \n",
       "CoarseAgg     -0.15  \n",
       "FineAgg       -0.17  \n",
       "Strength       1.00  "
      ]
     },
     "execution_count": 17,
     "metadata": {},
     "output_type": "execute_result"
    }
   ],
   "source": [
    "cormat = con.corr()\n",
    "round(cormat,2)"
   ]
  },
  {
   "cell_type": "markdown",
   "metadata": {},
   "source": [
    "## Correlation matrix to heat map\n",
    "Python, and its libraries, make lots of things easy.  For example, once the correlation matrix is defined (I assigned to the variable `cormat` above), it can be passed to Seaborn's `heatmap()` method to create a heatmap (or headgrid).  The basic idea of heatmaps is that they replace numbers with colors of varying shades, as indicated by the scale on the right.  Cells that are lighter have higher values of _r_.  This type of visualization can make it much easier to spot linear relationships between variables than a table of numbers. For example, if I focus on the \"Strength\" column, I immediately see that \"Cement\" and \"FlyAsh\" have the largest positive correlations whereas \"Slag\" has the large negative correlation."
   ]
  },
  {
   "cell_type": "code",
   "execution_count": 19,
   "metadata": {},
   "outputs": [
    {
     "data": {
      "image/png": "[encoded data removed]",
      "text/plain": [
       "<Figure size 432x288 with 2 Axes>"
      ]
     },
     "metadata": {
      "needs_background": "light"
     },
     "output_type": "display_data"
    }
   ],
   "source": [
    "sns.heatmap(cormat);"
   ]
  },
  {
   "cell_type": "code",
   "execution_count": null,
   "metadata": {},
   "outputs": [],
   "source": []
  }
 ],
 "metadata": {
  "kernelspec": {
   "display_name": "Python 3",
   "language": "python",
   "name": "python3"
  },
  "language_info": {
   "codemirror_mode": {
    "name": "ipython",
    "version": 3
   },
   "file_extension": ".py",
   "mimetype": "text/x-python",
   "name": "python",
   "nbconvert_exporter": "python",
   "pygments_lexer": "ipython3",
   "version": "3.7.6"
  }
 },
 "nbformat": 4,
 "nbformat_minor": 2
}
