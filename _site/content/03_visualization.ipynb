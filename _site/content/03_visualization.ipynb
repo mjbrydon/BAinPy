{
 "cells": [
  {
   "cell_type": "markdown",
   "metadata": {},
   "source": [
    "# Basic Visualization\n",
    "In this tutorial we show how Python and its graphics libraries can be used to create the two most common types of distributional plots: histograms and boxplots.\n",
    "\n",
    "## Preliminaries\n",
    "I include the data import and library import commands at the start of each lesson so that the lessons are self-contained.\n"
   ]
  },
  {
   "cell_type": "code",
   "execution_count": 1,
   "metadata": {},
   "outputs": [],
   "source": [
    "import pandas as pd\n",
    "bank = pd.read_csv('Data/Bank.csv')"
   ]
  },
  {
   "cell_type": "markdown",
   "metadata": {},
   "source": [
    "\n",
    "## Basic descriptive statistics\n",
    "Pandas provides basic descriptive statistic functions as methods of the Series object.  Recall that each DataFrame object consists of multiple Series (columns).  Thus, the average salary for bank employees can be found as: "
   ]
  },
  {
   "cell_type": "code",
   "execution_count": 2,
   "metadata": {},
   "outputs": [
    {
     "data": {
      "text/plain": [
       "39.921923076923086"
      ]
     },
     "execution_count": 2,
     "metadata": {},
     "output_type": "execute_result"
    }
   ],
   "source": [
    "bank['Salary'].mean()"
   ]
  },
  {
   "cell_type": "markdown",
   "metadata": {},
   "source": [
    "Similarly, using a variable to save some typing:"
   ]
  },
  {
   "cell_type": "code",
   "execution_count": 3,
   "metadata": {},
   "outputs": [
    {
     "data": {
      "text/plain": [
       "(26.7, 39.921923076923086, 37.0, 97.0)"
      ]
     },
     "execution_count": 3,
     "metadata": {},
     "output_type": "execute_result"
    }
   ],
   "source": [
    "sal = bank['Salary']\n",
    "sal.min(), sal.mean(), sal.median(), sal.max() "
   ]
  },
  {
   "cell_type": "markdown",
   "metadata": {},
   "source": [
    "Or, recall, we can get statistical summary of all numerical columns using the `describe()` method:"
   ]
  },
  {
   "cell_type": "code",
   "execution_count": 4,
   "metadata": {},
   "outputs": [
    {
     "data": {
      "text/html": [
       "<div>\n",
       "<style scoped>\n",
       "    .dataframe tbody tr th:only-of-type {\n",
       "        vertical-align: middle;\n",
       "    }\n",
       "\n",
       "    .dataframe tbody tr th {\n",
       "        vertical-align: top;\n",
       "    }\n",
       "\n",
       "    .dataframe thead th {\n",
       "        text-align: right;\n",
       "    }\n",
       "</style>\n",
       "<table border=\"1\" class=\"dataframe\">\n",
       "  <thead>\n",
       "    <tr style=\"text-align: right;\">\n",
       "      <th></th>\n",
       "      <th>Employee</th>\n",
       "      <th>EducLev</th>\n",
       "      <th>JobGrade</th>\n",
       "      <th>YrHired</th>\n",
       "      <th>YrBorn</th>\n",
       "      <th>YrsPrior</th>\n",
       "      <th>Salary</th>\n",
       "    </tr>\n",
       "  </thead>\n",
       "  <tbody>\n",
       "    <tr>\n",
       "      <th>count</th>\n",
       "      <td>208.000000</td>\n",
       "      <td>208.000000</td>\n",
       "      <td>208.000000</td>\n",
       "      <td>208.000000</td>\n",
       "      <td>208.000000</td>\n",
       "      <td>208.000000</td>\n",
       "      <td>208.000000</td>\n",
       "    </tr>\n",
       "    <tr>\n",
       "      <th>mean</th>\n",
       "      <td>104.500000</td>\n",
       "      <td>3.158654</td>\n",
       "      <td>2.759615</td>\n",
       "      <td>85.326923</td>\n",
       "      <td>54.605769</td>\n",
       "      <td>2.375000</td>\n",
       "      <td>39.921923</td>\n",
       "    </tr>\n",
       "    <tr>\n",
       "      <th>std</th>\n",
       "      <td>60.188592</td>\n",
       "      <td>1.467464</td>\n",
       "      <td>1.566529</td>\n",
       "      <td>6.987832</td>\n",
       "      <td>10.318988</td>\n",
       "      <td>3.135237</td>\n",
       "      <td>11.256154</td>\n",
       "    </tr>\n",
       "    <tr>\n",
       "      <th>min</th>\n",
       "      <td>1.000000</td>\n",
       "      <td>1.000000</td>\n",
       "      <td>1.000000</td>\n",
       "      <td>56.000000</td>\n",
       "      <td>30.000000</td>\n",
       "      <td>0.000000</td>\n",
       "      <td>26.700000</td>\n",
       "    </tr>\n",
       "    <tr>\n",
       "      <th>25%</th>\n",
       "      <td>52.750000</td>\n",
       "      <td>2.000000</td>\n",
       "      <td>1.000000</td>\n",
       "      <td>82.000000</td>\n",
       "      <td>47.750000</td>\n",
       "      <td>0.000000</td>\n",
       "      <td>33.000000</td>\n",
       "    </tr>\n",
       "    <tr>\n",
       "      <th>50%</th>\n",
       "      <td>104.500000</td>\n",
       "      <td>3.000000</td>\n",
       "      <td>3.000000</td>\n",
       "      <td>87.000000</td>\n",
       "      <td>56.500000</td>\n",
       "      <td>1.000000</td>\n",
       "      <td>37.000000</td>\n",
       "    </tr>\n",
       "    <tr>\n",
       "      <th>75%</th>\n",
       "      <td>156.250000</td>\n",
       "      <td>5.000000</td>\n",
       "      <td>4.000000</td>\n",
       "      <td>90.000000</td>\n",
       "      <td>63.000000</td>\n",
       "      <td>4.000000</td>\n",
       "      <td>44.000000</td>\n",
       "    </tr>\n",
       "    <tr>\n",
       "      <th>max</th>\n",
       "      <td>208.000000</td>\n",
       "      <td>5.000000</td>\n",
       "      <td>6.000000</td>\n",
       "      <td>93.000000</td>\n",
       "      <td>73.000000</td>\n",
       "      <td>18.000000</td>\n",
       "      <td>97.000000</td>\n",
       "    </tr>\n",
       "  </tbody>\n",
       "</table>\n",
       "</div>"
      ],
      "text/plain": [
       "         Employee     EducLev    JobGrade     YrHired      YrBorn    YrsPrior  \\\n",
       "count  208.000000  208.000000  208.000000  208.000000  208.000000  208.000000   \n",
       "mean   104.500000    3.158654    2.759615   85.326923   54.605769    2.375000   \n",
       "std     60.188592    1.467464    1.566529    6.987832   10.318988    3.135237   \n",
       "min      1.000000    1.000000    1.000000   56.000000   30.000000    0.000000   \n",
       "25%     52.750000    2.000000    1.000000   82.000000   47.750000    0.000000   \n",
       "50%    104.500000    3.000000    3.000000   87.000000   56.500000    1.000000   \n",
       "75%    156.250000    5.000000    4.000000   90.000000   63.000000    4.000000   \n",
       "max    208.000000    5.000000    6.000000   93.000000   73.000000   18.000000   \n",
       "\n",
       "           Salary  \n",
       "count  208.000000  \n",
       "mean    39.921923  \n",
       "std     11.256154  \n",
       "min     26.700000  \n",
       "25%     33.000000  \n",
       "50%     37.000000  \n",
       "75%     44.000000  \n",
       "max     97.000000  "
      ]
     },
     "execution_count": 4,
     "metadata": {},
     "output_type": "execute_result"
    }
   ],
   "source": [
    "bank.describe()"
   ]
  },
  {
   "cell_type": "markdown",
   "metadata": {},
   "source": [
    "## Histograms in Seaborn\n",
    "Two graphics libraries are in common use in Python: Matplotlib and Seaborn.  Seaborn is an extension of Matplotlib that addresses a few specific graphics challenges, including histograms and boxplots.  As such, we will restrict our attention here to Seaborn."
   ]
  },
  {
   "cell_type": "markdown",
   "metadata": {},
   "source": [
    "## Loading the library\n",
    "As before, we must load a library before we can use it.  Seaborn is typically aliased as `sns`, but this is just a convention."
   ]
  },
  {
   "cell_type": "code",
   "execution_count": 5,
   "metadata": {},
   "outputs": [],
   "source": [
    "import seaborn as sns"
   ]
  },
  {
   "cell_type": "markdown",
   "metadata": {},
   "source": [
    "## Creating a histogram\n",
    "Histograms are created in Seaborn using the `distplot()` (distribution plot) method.  The syntax of Seaborn is closer to R than Python.  For example, the plot is called on a Seaborn library object (`sns`) and passed a data frame as an argument."
   ]
  },
  {
   "cell_type": "code",
   "execution_count": 6,
   "metadata": {},
   "outputs": [
    {
     "data": {
      "text/plain": [
       "<matplotlib.axes._subplots.AxesSubplot at 0x168fe694f88>"
      ]
     },
     "execution_count": 6,
     "metadata": {},
     "output_type": "execute_result"
    },
    {
     "data": {
      "image/png": "[encoded data removed]",
      "text/plain": [
       "<Figure size 432x288 with 1 Axes>"
      ]
     },
     "metadata": {
      "needs_background": "light"
     },
     "output_type": "display_data"
    }
   ],
   "source": [
    "sns.distplot(bank['Salary'])"
   ]
  },
  {
   "cell_type": "markdown",
   "metadata": {},
   "source": [
    "A few things to notice about this output\n",
    "+ The `distplot()` method returns an AxesSubplot value.  Since we don't need this (or even know what it is), we can clean-up our output in ending each Seaborn (or Matplotlib) call with a semicolon.\n",
    "+ Seaborn guesses at a good number of bins.  It appears to be more than the default in R.  But recall that the point of a histogram is to get a rough sense of the shape of the distribution of the variable.  We can certainly change the number of bins (to say 10 or 12), but it is not critical.\n",
    "+ As in SAS, Seaborn provides a kernel density plot by default. The kernel density plot is just  smoothed version of the blocky histogram&mdash;it provides the same information.\n",
    "+ The Y-axis defaults to density rather than frequency.\n",
    "\n",
    "We can pass some arguments to the method to get a more basic histogram. Turning off the kernel density estimate (`kde=False`) switches the Y-axis back to frequency:"
   ]
  },
  {
   "cell_type": "code",
   "execution_count": 7,
   "metadata": {},
   "outputs": [
    {
     "data": {
      "image/png": "[encoded data removed]",
      "text/plain": [
       "<Figure size 432x288 with 1 Axes>"
      ]
     },
     "metadata": {
      "needs_background": "light"
     },
     "output_type": "display_data"
    }
   ],
   "source": [
    "sns.distplot(bank['Salary'], bins=10, kde=False);"
   ]
  },
  {
   "cell_type": "markdown",
   "metadata": {},
   "source": [
    "Of course, it is possible to change colors, and so on.  I have split the more detailed method call below over multiple lines, which is more readable and more with keeping with R-style coding."
   ]
  },
  {
   "cell_type": "code",
   "execution_count": 12,
   "metadata": {},
   "outputs": [
    {
     "data": {
      "image/png": "[encoded data removed]",
      "text/plain": [
       "<Figure size 432x288 with 1 Axes>"
      ]
     },
     "metadata": {
      "needs_background": "light"
     },
     "output_type": "display_data"
    }
   ],
   "source": [
    "sns.distplot(bank['Salary'], \n",
    "             bins=10, kde=False, \n",
    "             norm_hist=False, \n",
    "             color='green' \n",
    "            );"
   ]
  },
  {
   "cell_type": "markdown",
   "metadata": {},
   "source": [
    "Finally, it is a simple matter to fit a reference normal curve to the distribution.  For this to work, a few things have to happen:\n",
    "+ The Y-axis has to be density rather than frequency: `norm_hist=True`\n",
    "+ Python needs to know what a Normal distribution is.  This definition is found in a different library: Scipy. The scipy library has a value `stats.norm` that can be used in the fit parameter.\n",
    "+ The bars can be suppressed to enable an easier comparison between the kernel density plot (which follows the actual data) and the fitted normal curve, which is a theoretical reference."
   ]
  },
  {
   "cell_type": "code",
   "execution_count": 9,
   "metadata": {},
   "outputs": [
    {
     "data": {
      "image/png": "[encoded data removed]",
      "text/plain": [
       "<Figure size 432x288 with 1 Axes>"
      ]
     },
     "metadata": {
      "needs_background": "light"
     },
     "output_type": "display_data"
    }
   ],
   "source": [
    "from scipy import stats\n",
    "sns.distplot(bank['Salary'], hist=False, kde=True, norm_hist=True, fit=stats.norm);"
   ]
  },
  {
   "cell_type": "markdown",
   "metadata": {},
   "source": [
    "## Creating a boplot\n",
    "Creating a boxplot in Seaborn is very simple:"
   ]
  },
  {
   "cell_type": "code",
   "execution_count": 10,
   "metadata": {},
   "outputs": [
    {
     "data": {
      "image/png": "[encoded data removed]",
      "text/plain": [
       "<Figure size 432x288 with 1 Axes>"
      ]
     },
     "metadata": {
      "needs_background": "light"
     },
     "output_type": "display_data"
    }
   ],
   "source": [
    "sns.boxplot(bank['Salary']);"
   ]
  },
  {
   "cell_type": "markdown",
   "metadata": {},
   "source": [
    "If you prefer a vertical orientation, you can set the `orient` parameter to 'v' or 'h'.  Also, notice that Seaborn does not provide an indicator of the mean by default.  Obviously, skewed data such as this pulls the mean to the right of the median.  I like to eyeball the difference between the two measures."
   ]
  },
  {
   "cell_type": "code",
   "execution_count": 11,
   "metadata": {},
   "outputs": [
    {
     "data": {
      "image/png": "[encoded data removed]",
      "text/plain": [
       "<Figure size 432x288 with 1 Axes>"
      ]
     },
     "metadata": {
      "needs_background": "light"
     },
     "output_type": "display_data"
    }
   ],
   "source": [
    "sns.boxplot(bank['Salary'], orient='v', color='lightgreen', showmeans=True);"
   ]
  },
  {
   "cell_type": "code",
   "execution_count": null,
   "metadata": {},
   "outputs": [],
   "source": []
  }
 ],
 "metadata": {
  "kernelspec": {
   "display_name": "Python 3",
   "language": "python",
   "name": "python3"
  },
  "language_info": {
   "codemirror_mode": {
    "name": "ipython",
    "version": 3
   },
   "file_extension": ".py",
   "mimetype": "text/x-python",
   "name": "python",
   "nbconvert_exporter": "python",
   "pygments_lexer": "ipython3",
   "version": "3.7.6"
  }
 },
 "nbformat": 4,
 "nbformat_minor": 2
}
